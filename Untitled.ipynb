{
 "cells": [
  {
   "cell_type": "markdown",
   "id": "0a653752-5cab-4715-8a07-7500f68e5aac",
   "metadata": {},
   "source": [
    "# Numpy Pandas Assignment"
   ]
  },
  {
   "cell_type": "markdown",
   "id": "ea5100ca-c8b6-4edf-ad82-8ec7a25bd295",
   "metadata": {},
   "source": [
    "### Task 1:NumPy Basics"
   ]
  },
  {
   "cell_type": "code",
   "execution_count": null,
   "id": "f0892f5f-d032-4071-8c85-28c69dffe496",
   "metadata": {},
   "outputs": [],
   "source": [
    "#"
   ]
  }
 ],
 "metadata": {
  "kernelspec": {
   "display_name": "Python 3 (ipykernel)",
   "language": "python",
   "name": "python3"
  },
  "language_info": {
   "codemirror_mode": {
    "name": "ipython",
    "version": 3
   },
   "file_extension": ".py",
   "mimetype": "text/x-python",
   "name": "python",
   "nbconvert_exporter": "python",
   "pygments_lexer": "ipython3",
   "version": "3.11.7"
  }
 },
 "nbformat": 4,
 "nbformat_minor": 5
}
