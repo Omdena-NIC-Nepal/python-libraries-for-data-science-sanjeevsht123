{
 "cells": [
  {
   "cell_type": "markdown",
   "id": "fb1144c7-7476-42f1-ab1c-881988fcba97",
   "metadata": {},
   "source": [
    "# Numpy Pandas Assignment"
   ]
  },
  {
   "cell_type": "markdown",
   "id": "7cd00ad8-1e01-43ee-868c-d03b8b12957e",
   "metadata": {},
   "source": [
    "### Task 1: NumPy Basics"
   ]
  },
  {
   "cell_type": "markdown",
   "id": "8c48deeb-5e7b-49a1-90c0-7162f0c9309b",
   "metadata": {},
   "source": [
    "#### Array Creation"
   ]
  },
  {
   "cell_type": "code",
   "execution_count": 1,
   "id": "d0ad3186-e7f1-47c7-9e6f-975f78e37d20",
   "metadata": {},
   "outputs": [
    {
     "data": {
      "text/plain": [
       "array([1, 2, 4, 5, 6])"
      ]
     },
     "execution_count": 1,
     "metadata": {},
     "output_type": "execute_result"
    }
   ],
   "source": [
    "# Creating 1D and 2D array\n",
    "\n",
    "# 1D\n",
    "import numpy as np\n",
    "my_1d=np.array([1,2,4,5,6])\n",
    "my_1d"
   ]
  },
  {
   "cell_type": "code",
   "execution_count": 2,
   "id": "f83e91c3-dfdd-4879-973c-f8f3bfcc8354",
   "metadata": {},
   "outputs": [
    {
     "data": {
      "text/plain": [
       "array([[2, 3, 4],\n",
       "       [3, 5, 6],\n",
       "       [5, 7, 4]])"
      ]
     },
     "execution_count": 2,
     "metadata": {},
     "output_type": "execute_result"
    }
   ],
   "source": [
    "# 2D array\n",
    "\n",
    "my_2d=np.array([[2,3,4],[3,5,6],[5,7,4]])\n",
    "my_2d"
   ]
  },
  {
   "cell_type": "code",
   "execution_count": null,
   "id": "8157dee8-16a6-4068-9259-e9f55585d6c4",
   "metadata": {},
   "outputs": [],
   "source": []
  }
 ],
 "metadata": {
  "kernelspec": {
   "display_name": "Python 3 (ipykernel)",
   "language": "python",
   "name": "python3"
  },
  "language_info": {
   "codemirror_mode": {
    "name": "ipython",
    "version": 3
   },
   "file_extension": ".py",
   "mimetype": "text/x-python",
   "name": "python",
   "nbconvert_exporter": "python",
   "pygments_lexer": "ipython3",
   "version": "3.11.7"
  }
 },
 "nbformat": 4,
 "nbformat_minor": 5
}
