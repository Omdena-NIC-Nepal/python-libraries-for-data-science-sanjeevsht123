{
 "cells": [
  {
   "cell_type": "markdown",
   "id": "fb1144c7-7476-42f1-ab1c-881988fcba97",
   "metadata": {},
   "source": [
    "# Numpy Pandas Assignment"
   ]
  },
  {
   "cell_type": "markdown",
   "id": "7cd00ad8-1e01-43ee-868c-d03b8b12957e",
   "metadata": {},
   "source": [
    "### Task 1: NumPy Basics"
   ]
  },
  {
   "cell_type": "markdown",
   "id": "8c48deeb-5e7b-49a1-90c0-7162f0c9309b",
   "metadata": {},
   "source": [
    "#### Array Creation"
   ]
  },
  {
   "cell_type": "code",
   "execution_count": 4,
   "id": "d0ad3186-e7f1-47c7-9e6f-975f78e37d20",
   "metadata": {},
   "outputs": [
    {
     "data": {
      "text/plain": [
       "array([1, 2, 4, 5, 6])"
      ]
     },
     "execution_count": 4,
     "metadata": {},
     "output_type": "execute_result"
    }
   ],
   "source": [
    "# Creating 1D and 2D array\n",
    "\n",
    "# 1D\n",
    "import numpy as np\n",
    "my_1d=np.array([1,2,4,5,6])\n",
    "my_1d"
   ]
  },
  {
   "cell_type": "code",
   "execution_count": 6,
   "id": "f83e91c3-dfdd-4879-973c-f8f3bfcc8354",
   "metadata": {},
   "outputs": [
    {
     "name": "stdout",
     "output_type": "stream",
     "text": [
      "2D Array:\n",
      " [[2 3 4]\n",
      " [3 5 6]\n",
      " [5 7 4]]\n"
     ]
    }
   ],
   "source": [
    "# 2D array\n",
    "\n",
    "my_2d=np.array([[2,3,4],[3,5,6],[5,7,4]])\n",
    "my_2d\n",
    "print('2D Array:\\n',my_2d)"
   ]
  },
  {
   "cell_type": "code",
   "execution_count": null,
   "id": "8157dee8-16a6-4068-9259-e9f55585d6c4",
   "metadata": {},
   "outputs": [],
   "source": []
  },
  {
   "cell_type": "markdown",
   "id": "d48b4d44-1517-4178-a5b7-068c640904d2",
   "metadata": {},
   "source": [
    "#### Array Operations"
   ]
  },
  {
   "cell_type": "code",
   "execution_count": 7,
   "id": "be963e73-36d0-45b7-96e6-9ce741f43161",
   "metadata": {},
   "outputs": [
    {
     "name": "stdout",
     "output_type": "stream",
     "text": [
      "1D array addition operation:\n",
      " [13 14 16 17 18]\n",
      "2D array addition operation:\n",
      " [[22 23 24]\n",
      " [23 25 26]\n",
      " [25 27 24]]\n",
      "2D array multiplication operation:\n",
      " [[ 4  6  8]\n",
      " [ 6 10 12]\n",
      " [10 14  8]]\n"
     ]
    }
   ],
   "source": [
    "# performing basic operations in array\n",
    "my_1d_add=my_1d+12\n",
    "my_2d_add=my_2d+20\n",
    "my_2d_mul=my_2d*2\n",
    "\n",
    "print('1D array addition operation:\\n',my_1d_add)\n",
    "print('2D array addition operation:\\n',my_2d_add)\n",
    "print('2D array multiplication operation:\\n',my_2d_mul)"
   ]
  },
  {
   "cell_type": "code",
   "execution_count": null,
   "id": "38222248-fc39-4bf6-ad67-fd298d2bd3ea",
   "metadata": {},
   "outputs": [],
   "source": []
  },
  {
   "cell_type": "markdown",
   "id": "e6b7b667",
   "metadata": {},
   "source": [
    "#### indexing and Slicing"
   ]
  },
  {
   "cell_type": "code",
   "execution_count": 12,
   "id": "b4f458e8",
   "metadata": {},
   "outputs": [
    {
     "name": "stdout",
     "output_type": "stream",
     "text": [
      "5\n",
      "6\n",
      "2d slice:\n",
      " [[3 4]\n",
      " [5 6]]\n",
      "1D Array slice:\n",
      " [2]\n"
     ]
    }
   ],
   "source": [
    "# Demonstrate indexing and slicing on the array\n",
    "my_1d_array_index=my_1d[3]  # indexing on the array\n",
    "print(my_1d_array_index)\n",
    "\n",
    "my_2d_array_index=my_2d[1,2] #indexing of 2D array\n",
    "print(my_2d_array_index)\n",
    "\n",
    "#Slicing on array\n",
    "\n",
    "my_2d_slice=my_2d[:2,1:3] #select row from begining upto index 2(excluding 2) and columns from index 1 upto 3 (not including)\n",
    "print('2d slice:\\n',my_2d_slice)\n",
    "\n",
    "my_1d_slice=my_1d[1:2]\n",
    "print('1D Array slice:\\n',my_1d_slice)\n",
    "\n"
   ]
  },
  {
   "cell_type": "code",
   "execution_count": null,
   "id": "5cacb4b1-2fc8-4c65-9570-b58dfa551634",
   "metadata": {},
   "outputs": [],
   "source": []
  },
  {
   "cell_type": "markdown",
   "id": "8fdad688-8062-4a83-9916-e71f1c31b86b",
   "metadata": {},
   "source": [
    "#### Shape and Reshape"
   ]
  },
  {
   "cell_type": "code",
   "execution_count": 27,
   "id": "04da8ab4-1b98-4616-9227-25ae0e0ee9ce",
   "metadata": {},
   "outputs": [
    {
     "name": "stdout",
     "output_type": "stream",
     "text": [
      "Shape of 2D array :  (3, 3)\n",
      "Reshape of 2D array:\n",
      " [[2]\n",
      " [3]\n",
      " [4]\n",
      " [3]\n",
      " [5]\n",
      " [6]\n",
      " [5]\n",
      " [7]\n",
      " [4]]\n"
     ]
    }
   ],
   "source": [
    "# Show how to check the shape of an array and reshape it\n",
    "\n",
    "print('Shape of 2D array : ',my_2d.shape)\n",
    "reshape_array_2d=my_2d.reshape(9,1)\n",
    "\n",
    "print('Reshape of 2D array:\\n',reshape_array_2d)"
   ]
  },
  {
   "cell_type": "code",
   "execution_count": null,
   "id": "67e7a696-3752-45e7-b28d-683fe52280bd",
   "metadata": {},
   "outputs": [],
   "source": []
  }
 ],
 "metadata": {
  "kernelspec": {
   "display_name": "Python 3 (ipykernel)",
   "language": "python",
   "name": "python3"
  },
  "language_info": {
   "codemirror_mode": {
    "name": "ipython",
    "version": 3
   },
   "file_extension": ".py",
   "mimetype": "text/x-python",
   "name": "python",
   "nbconvert_exporter": "python",
   "pygments_lexer": "ipython3",
   "version": "3.11.7"
  }
 },
 "nbformat": 4,
 "nbformat_minor": 5
}
