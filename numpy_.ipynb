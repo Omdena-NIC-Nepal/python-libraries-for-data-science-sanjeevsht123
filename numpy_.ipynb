{
 "cells": [
  {
   "cell_type": "markdown",
   "id": "fb1144c7-7476-42f1-ab1c-881988fcba97",
   "metadata": {},
   "source": [
    "# Numpy Pandas Assignment"
   ]
  },
  {
   "cell_type": "markdown",
   "id": "7cd00ad8-1e01-43ee-868c-d03b8b12957e",
   "metadata": {},
   "source": [
    "### Task 1: NumPy Basics"
   ]
  },
  {
   "cell_type": "markdown",
   "id": "8c48deeb-5e7b-49a1-90c0-7162f0c9309b",
   "metadata": {},
   "source": [
    "#### Array Creation"
   ]
  },
  {
   "cell_type": "code",
   "execution_count": 4,
   "id": "d0ad3186-e7f1-47c7-9e6f-975f78e37d20",
   "metadata": {},
   "outputs": [
    {
     "data": {
      "text/plain": [
       "array([1, 2, 4, 5, 6])"
      ]
     },
     "execution_count": 4,
     "metadata": {},
     "output_type": "execute_result"
    }
   ],
   "source": [
    "# Creating 1D and 2D array\n",
    "\n",
    "# 1D\n",
    "import numpy as np\n",
    "my_1d=np.array([1,2,4,5,6])\n",
    "my_1d"
   ]
  },
  {
   "cell_type": "code",
   "execution_count": 6,
   "id": "f83e91c3-dfdd-4879-973c-f8f3bfcc8354",
   "metadata": {},
   "outputs": [
    {
     "name": "stdout",
     "output_type": "stream",
     "text": [
      "2D Array:\n",
      " [[2 3 4]\n",
      " [3 5 6]\n",
      " [5 7 4]]\n"
     ]
    }
   ],
   "source": [
    "# 2D array\n",
    "\n",
    "my_2d=np.array([[2,3,4],[3,5,6],[5,7,4]])\n",
    "my_2d\n",
    "print('2D Array:\\n',my_2d)"
   ]
  },
  {
   "cell_type": "code",
   "execution_count": null,
   "id": "8157dee8-16a6-4068-9259-e9f55585d6c4",
   "metadata": {},
   "outputs": [],
   "source": []
  },
  {
   "cell_type": "markdown",
   "id": "d48b4d44-1517-4178-a5b7-068c640904d2",
   "metadata": {},
   "source": [
    "#### Array Operations"
   ]
  },
  {
   "cell_type": "code",
   "execution_count": 7,
   "id": "be963e73-36d0-45b7-96e6-9ce741f43161",
   "metadata": {},
   "outputs": [
    {
     "name": "stdout",
     "output_type": "stream",
     "text": [
      "1D array addition operation:\n",
      " [13 14 16 17 18]\n",
      "2D array addition operation:\n",
      " [[22 23 24]\n",
      " [23 25 26]\n",
      " [25 27 24]]\n",
      "2D array multiplication operation:\n",
      " [[ 4  6  8]\n",
      " [ 6 10 12]\n",
      " [10 14  8]]\n"
     ]
    }
   ],
   "source": [
    "# performing basic operations in array\n",
    "my_1d_add=my_1d+12\n",
    "my_2d_add=my_2d+20\n",
    "my_2d_mul=my_2d*2\n",
    "\n",
    "print('1D array addition operation:\\n',my_1d_add)\n",
    "print('2D array addition operation:\\n',my_2d_add)\n",
    "print('2D array multiplication operation:\\n',my_2d_mul)"
   ]
  },
  {
   "cell_type": "code",
   "execution_count": null,
   "id": "38222248-fc39-4bf6-ad67-fd298d2bd3ea",
   "metadata": {},
   "outputs": [],
   "source": []
  },
  {
   "cell_type": "code",
   "execution_count": null,
   "id": "5d00e02c-a9a7-4fa8-8b69-194de374555c",
   "metadata": {},
   "outputs": [],
   "source": []
  }
 ],
 "metadata": {
  "kernelspec": {
   "display_name": "Python 3 (ipykernel)",
   "language": "python",
   "name": "python3"
  },
  "language_info": {
   "codemirror_mode": {
    "name": "ipython",
    "version": 3
   },
   "file_extension": ".py",
   "mimetype": "text/x-python",
   "name": "python",
   "nbconvert_exporter": "python",
   "pygments_lexer": "ipython3",
   "version": "3.11.7"
  }
 },
 "nbformat": 4,
 "nbformat_minor": 5
}
